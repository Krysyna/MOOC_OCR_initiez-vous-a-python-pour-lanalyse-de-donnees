{
 "cells": [
  {
   "cell_type": "markdown",
   "id": "6ab61edb",
   "metadata": {},
   "source": [
    "# Partie 1 - Mettez en place votre environnement de travail Python"
   ]
  },
  {
   "cell_type": "markdown",
   "id": "1d3537e5",
   "metadata": {},
   "source": [
    "## 1. Installez Python et Anaconda\n",
    "* Découvrez Python\n",
    "* Installez Python via Anaconda\n",
    "* Utilisez Python dans le Cloud via Google Colaboratory"
   ]
  },
  {
   "cell_type": "markdown",
   "id": "e0da14f9",
   "metadata": {},
   "source": [
    "## 2. Faites vos premiers pas avec Jupyter Notebook\n",
    "\n",
    "* Découvrez le notebook Jupyter\n",
    "* Faites vos premiers pas avec Jupyter\n",
    "* Documentez votre notebook "
   ]
  },
  {
   "cell_type": "markdown",
   "id": "88a39499",
   "metadata": {},
   "source": [
    "   \n",
    "# Partie 2 - Manipulez les fonctions et objets fondamentaux"
   ]
  },
  {
   "cell_type": "markdown",
   "id": "c8ad2b56",
   "metadata": {},
   "source": [
    "## 1. Déclarez une variable"
   ]
  },
  {
   "cell_type": "markdown",
   "id": "52fea734",
   "metadata": {},
   "source": [
    "### Qu'est-ce qu'une variable ?"
   ]
  },
  {
   "cell_type": "markdown",
   "id": "f6dcb7c5",
   "metadata": {},
   "source": [
    "deux elements :\n",
    "* un nom = etiquette =>il doit etre clair, cohérant et explicite, privilegier le snake_case\n",
    "* une valeur = le contenu de la boite, parfois il y a une valeur par defaut"
   ]
  },
  {
   "cell_type": "markdown",
   "id": "6fcd8c66",
   "metadata": {},
   "source": [
    "### Comment créer une variable ?\n",
    "La variable doit etre initialisée:\n",
    "Il faut ecrire une expression qui associe une valeur à une nom \n",
    "* nom_variable = valeur_variable\n",
    "\n",
    "L’attribution d’une valeur à une variable s’appelle une affectation.\n"
   ]
  },
  {
   "cell_type": "code",
   "execution_count": null,
   "id": "eebf99bf",
   "metadata": {},
   "outputs": [],
   "source": []
  },
  {
   "cell_type": "code",
   "execution_count": null,
   "id": "019f4044",
   "metadata": {},
   "outputs": [],
   "source": []
  },
  {
   "cell_type": "markdown",
   "id": "440060c5",
   "metadata": {},
   "source": [
    "### Qu'est-ce qu'une opération entre variables ?\n",
    "    la valeur d’une variable peut changer, on utilise des opérations\n",
    "###### Chaque opération va faire appel à des opérateurs arithmétiques\n",
    "   [ /!\\ ordre des opérations ]\n",
    "\n",
    "   * addition +;\n",
    "   * soustraction -;\n",
    "   * multiplication *;\n",
    "   * division /\n",
    "   \n",
    "###### Un peu plus complexe :\n",
    "\n",
    "   * %  modulo : retourne le reste de la division euclidienne ;\n",
    "   * **  puissance : permet d’élever un nombre à une certaine puissance ;\n",
    "   * //  division entière : calcule la division entière (chiffre arrondi à l’inférieur).\n",
    "   \n",
    "   \n",
    "   \n",
    "###### opérateurs simplifiés\n",
    "\n",
    "+= (additoin),-= (soustraction), *= (multiplication), /= (division), %=  (reste de la division entière),...\n",
    "\n"
   ]
  },
  {
   "cell_type": "code",
   "execution_count": null,
   "id": "e155ed90",
   "metadata": {},
   "outputs": [],
   "source": []
  },
  {
   "cell_type": "markdown",
   "id": "0af4c5a9",
   "metadata": {},
   "source": [
    "### Au-delà de l’arithmétique\n",
    "* il existe des variables de type *numérique* : int, float \n",
    "* chaine de caracteres *string* avec les quotes \"\" ou ''\n",
    "\n"
   ]
  },
  {
   "cell_type": "markdown",
   "id": "d6f5f087",
   "metadata": {},
   "source": [
    "## 2. Manipulez les types de variables"
   ]
  },
  {
   "cell_type": "markdown",
   "id": "76df7a57",
   "metadata": {},
   "source": [
    "### Pourquoi avons-nous besoin des types de variables ?\n",
    "depend la facon dont la variable peut etre manipulée"
   ]
  },
  {
   "cell_type": "markdown",
   "id": "46309e52",
   "metadata": {},
   "source": [
    "### Les variables numériques\n",
    "* operations mathematiques\n",
    "* deux types : \n",
    "    * entiers (int)\n",
    "    * decimaux (float à virgule)\n",
    "* les différents types numériques peuvent être mixés ensemble\n",
    "* typecasting permet de forcer le type ou cast d'une variable :\n",
    "    * int()\n",
    "    * float()   "
   ]
  },
  {
   "cell_type": "markdown",
   "id": "7272e70c",
   "metadata": {},
   "source": [
    "### Les chaînes de caractères\n",
    "* type *string*\n",
    "* permet de stocker du texte\n",
    "* *concatenation* pour assembler plusieurs strings\n",
    "* on ne peut pas concater des typê numeriques et string \n",
    "* type casting : \n",
    "    * str()\n"
   ]
  },
  {
   "cell_type": "markdown",
   "id": "f3afaa1b",
   "metadata": {},
   "source": [
    "## 3. Écrivez vos propres fonctions"
   ]
  },
  {
   "cell_type": "markdown",
   "id": "dc11eafd",
   "metadata": {},
   "source": [
    "### les fonctions\n",
    "* indispensable pour structurer le code, et le rendre plus lisible\n",
    "* bloc de code reutilisable appelé grâce à un nom.\n",
    "* composées d'un *nom* et de *parametre(s)*\n",
    "* exemple de fonctions préexistantes (*built-in*) : \n",
    "    * print()\n",
    "    * cast : str(), int(), float()\n",
    "    * len()  : renvoie la longueur d’un élément\n",
    "    * type()  : permet d’afficher le type d’une variable \n",
    "    * pow(a, b)  :  a puissance b = a**b\n",
    "    * abs()  : retourne la valeur absolue d’un nombre\n",
    "\n",
    "### vos propres fonctions\n",
    "Une fonction est définie via le mot clé  def  suivi du nom de la fonction\n",
    "L’indentation est un principe fondamental en Python,\n",
    "\n",
    "#### Définissez des paramètres\n",
    "pour recuperer des infos exterieru a la fonction\n",
    "definis en meme temsp que la fonction\n",
    "\n",
    "\n",
    "#### Définissez une valeur retournée\n",
    "Pour définir une valeur retournée, il faut explicitement utiliser le mot clé return à la fin de votre fonction.\n",
    "\n",
    "###  la fonction help()\n",
    "* help(nomFonction) affichera la documentation de cette fonction  :\n",
    "    * son but ;\n",
    "    * des recommandations d’utilisation ;\n",
    "    * la liste et la description des paramètres ;\n",
    "    * parfois même des exemples."
   ]
  },
  {
   "cell_type": "markdown",
   "id": "0b865cb1",
   "metadata": {},
   "source": [
    "## 4. Programmez en orienté objet\n",
    "***en Python, tout est objet***\n",
    "les objets peuvent etre classer a l'aide de leurs points communs\n",
    "ex : livre ont un titre, un auteur, une date ... => partagent différents attributs qui vous permettent de les classer dans une catégorie bien identifiée : celle des livres."
   ]
  },
  {
   "cell_type": "markdown",
   "id": "08742532",
   "metadata": {},
   "source": [
    "### Les classes : des modèles d’objets\n",
    "* = groupe categorie d'objets qui ont des attributs en **communs** = sorte de *schéma de construction*\n",
    "* a partir de cette classe on peut creer differetns modeles d'un objet\n",
    "* exemple classe voiture\n",
    "    * attributs : 4 roues, une couleur, une puissance...\n",
    "    * methodes : fonctionalitées propres : rouler, freiner ...\n",
    "    * on peut creer/instancier des objets de classe voiture => ces objets = instances de classe\n",
    "\n",
    "* **En résumé** :\n",
    "    * une **classe** correspond au plan d’un objet, définissant ses **attributs** et ses **méthodes**\n",
    "    * À partir d’une même classe, on peut donc créer plusieurs **objets** d’un même type, mais aux attributs différents : on appelle cela des **instances** de classe. **Un objet est défini par ses attributs**\n",
    "\n",
    "### Focus sur les méthodes\n",
    "* instanciation d'un objet de classe int, avec pour seul attribut : sa valeur\n",
    "    * variable = 10\n",
    "* methode de classe = fonction dispo  pour toutes les instances de cette classe\n",
    "    * classe avion => methode voler()\n",
    "    * classe voiture => methode rouler()\n",
    "* utilisation d'une methode : \n",
    "    * nom_variable.méthode()\n",
    "* les méthodes de classes peuvent prendre des paramètres\n",
    "* Une méthode, tout comme une fonction, ne modifie généralement pas l’objet initial.Elles ne font que retourner le résultat de la méthode appliquée à l’objet.\n",
    "\n",
    "### Les méthodes de chaînes de caractères\n",
    "Pour modifier des instances de la classe string\n",
    "  - lower() : transformer l’ensemble du texte en minuscules\n",
    "  - upper()  : retourne l’ensemble du texte en majuscules ;\n",
    "  - capitalize()  : retourne l’ensemble du texte en minuscules avec la première lettre en majuscule ;\n",
    "  - replace(old, new)\n",
    "  - find(chaîne)  : retourne soit l’indice de la première occurrence de la chaîne passée en argument, soit -1 si elle ne la trouve pas.\n"
   ]
  },
  {
   "cell_type": "markdown",
   "id": "892ac6fd",
   "metadata": {},
   "source": [
    "# Partie 3 - Structurez votre code au sein d’un projet"
   ]
  },
  {
   "cell_type": "markdown",
   "id": "c7a45ff8",
   "metadata": {},
   "source": [
    "## 1. Créez des tableaux pour stocker vos variables\n",
    "une variable qui contient plusieurs informations => 2 classes les plus utilisées :\n",
    "* liste : element ordonné de 0 à ...\n",
    "* dictionnaire : clé: valeur <=> mot: definition"
   ]
  },
  {
   "cell_type": "markdown",
   "id": "19f0761e",
   "metadata": {},
   "source": [
    "### les listes \n",
    "\n",
    "#### declaration de liste\n",
    "les listes :\n",
    "   * declaration:\n",
    "        ma_liste=[element1,element2 ...]\n",
    "   * objet qui contient d'autres objets (de n'importe quel type et meme des listes => liste de liste!)\n",
    "   * ordonnées : à chq element est associé un **indice** qui demarre a 0\n",
    "\n",
    "* accceder a une valeur ou changer une valeur a l'aide de son indice \n",
    "    * maliste[i] avec i l'indice de l'element\n",
    "    * indices négatifs: -1 correspond au dernier\n",
    "    * intervalle d'indice ou slice : maliste[i:j] qui correspond aux indices de l'interevelle [i:j[ donc j exclut\n",
    "    \n",
    "#### methode de listes\n",
    "\n",
    "   * **insert**  : pour insérer un nouvel élément à une position spécifique. Par exemple,  liste.insert(1, 12)  insérera l’entier 12 à l’indice 1, déplaçant l’ancien élément 1 à l’indice 2 et ainsi de suite ;\n",
    "   * **append** : ajoute une valeur a la fin de la liste \n",
    "\n",
    "   * **extend**  : similaire à append, mais avec une autre liste. D’une certaine façon, cela permet de concaténer plusieurs listes ensemble ;\n",
    "   * **remove**  : cherche l’élément donné dans la liste et supprime la première occurrence rencontrée. Par exemple, si vous souhaitez supprimer 5 de votre liste, vous pouvez utiliser :liste.remove(5);\n",
    "   * **index**  : cette méthode permet de trouver l’indice de la première occurrence d’un élément à chercher dans notre liste ;\n",
    "   * ***mot clé*** **del**  : pour supprimer un élément selon son indice.\n",
    "liste = []\n",
    "\n",
    "- ajouter => liste.append(7) # -> [7]\n",
    "- inserer => liste.insert(1,12) # [7, 12, 5]\n",
    "- remplacer => liste[0] = 4 # -> [4, 12, 5] *ou* .insert() et .remove()\n",
    "- cherche et supprime selon la valeur (premiere occurence) => liste.remove(12) # [4, 5]\n",
    "- indice de l'element cherché (premiere occurence) => liste.index(5) # affiche 1\n",
    "- ajout d'un liste => liste.extend([1, 2, 3]) # [4, 5, 1, 2, 3]\n",
    "- supprimer  élément selon  indice => del liste[3] # [4, 5, 1, 3]\n",
    "- taille de la liste => len(liste), indispensable pour parcourir une liste a l'aide d'une boucle for"
   ]
  },
  {
   "cell_type": "raw",
   "id": "1b95a892",
   "metadata": {},
   "source": [
    "liste = []\n",
    "liste.append(7) # -> [7]\n",
    "print (liste)\n",
    "liste.append(5) # -> [7, 5]\n",
    "print (liste)\n",
    "liste.insert(1,12) # [7, 12, 5]\n",
    "print (liste)\n",
    "liste[0] = 4 # -> [4, 12, 5]\n",
    "print (liste)\n",
    "liste.remove(12) # [4, 5]\n",
    "print (liste)\n",
    "liste.index(5) # affiche 1\n",
    "print (liste)\n",
    "liste.extend([1, 2, 3]) # [4, 5, 1, 2, 3]\n",
    "print (liste)\n",
    "del liste[3] # [4, 5, 1, 3]\n",
    "print (liste)\n",
    "\n",
    "OUTPUT \n",
    "[7]\n",
    "[7, 5]\n",
    "[7, 12, 5]\n",
    "[4, 12, 5]\n",
    "[4, 5]\n",
    "[4, 5]\n",
    "[4, 5, 1, 2, 3]\n",
    "[4, 5, 1, 3]"
   ]
  },
  {
   "cell_type": "markdown",
   "id": "19e3ac19",
   "metadata": {},
   "source": [
    "### les dictionnaires\n",
    "* liste d'elements organisés avec un systeme de clé => pas besoin d'etre ordonné, contraiement aux listes\n",
    "* association clé-valeur\n",
    "\n",
    "#### Déclarez un dictionnaire\n",
    "avec des **accolades**\n",
    "dico={'clé1' : valeur1, 'cle2' : valeur2}\n",
    "#### Manipulez les éléments d’un dictionnaire\n",
    "\n",
    "* accéder à la valeur d’un élément, en utlisant sa clé \n",
    "    * dico['cle1']\n",
    "* ajouter un nouvel élément (valeur-clé)\n",
    "    * dico['cle_new']= valeur_new\n",
    "* supprimer un élément via sa clé avec la metode pop \n",
    "    * dico.pop('cle_de_l_element_a supprimer')"
   ]
  },
  {
   "cell_type": "markdown",
   "id": "7e2bd2b1",
   "metadata": {},
   "source": [
    "### les tuples ()\n",
    "* ressemble aux liste : \n",
    "    * objets ordonnés\n",
    "    * accede aux elements a l'aide de leur indice\n",
    "    * on peut stocker toutes types d'objets\n",
    "* **immuable** => pour retourner plusieurs valeurs depuis une fonction, declarer plusieurs variables, proteger certaines veriables\n",
    "#### declamon_tuple = (1, 2, 3, 'a', 'b')er un tuple\n",
    "* avec des parentheses \n",
    "    * mon_tuple = (1, 2, 3, 'a', 'b')\n",
    "#### maniipulez les tuples\n",
    "* selectionnez un element a l'aide de son incide\n",
    "    * mon_tuple[i] -> valeur de l'indice i, les indeices commencent à zero\n",
    " * declarer plusieurs variables en meme temps\n",
    "     * var1,var2 = (val1,val2)\n",
    "     "
   ]
  },
  {
   "cell_type": "markdown",
   "id": "8bb0199d",
   "metadata": {},
   "source": [
    "### en resumé \n",
    "\n",
    "Dans ce chapitre, vous avez appris l’ensemble des bases de l’utilisation de différents \"types de stockage\" :\n",
    "* les listes : un tableau ordonné, modifiable, où chaque élément est associé à un indice ;\n",
    "* les dictionnaires : un tableau non ordonné, modifiable, où chaque élément est associé à une clé ;\n",
    "* les tuples : un tableau ordonné, non mutable, où chaque élément est associé à un indice ;\n",
    "* les actions les plus souvent réalisées avec les listes et dictionnaires sont :\n",
    "       * accéder à un élément,\n",
    "       * ajouter un élément,\n",
    "       * supprimer un élément,\n",
    "       * modifier un élément,\n",
    "       * compter le nombre d’éléments stockés ;\n",
    "       \n",
    "on peut réaliser ces différentes actions via des méthodes.\n",
    "\n",
    "Le type à utiliser dépend de la tâche à accomplir. Au fur et à mesure que vous progresserez dans votre carrière, vous serez en mesure de mieux identifier la structure la plus adaptée à votre situation !"
   ]
  },
  {
   "cell_type": "markdown",
   "id": "51bf2420",
   "metadata": {},
   "source": [
    "## 2. Contrôlez votre code grâce aux structures conditionnelles\n",
    "\n",
    "* programme = suite de lignes => il faut les structurer\n",
    "\n",
    "* condition definie la action a realiser if/else\n",
    "\n",
    "* pour valider la condition boolene => True/ False\n",
    "\n",
    "### Affichez des informations si elles sont disponibles\n",
    "\n",
    "### Utilisez les booléens : le type sans demi-mesure\n",
    "\n",
    "### Gérez un enchaînement de conditions"
   ]
  },
  {
   "cell_type": "markdown",
   "id": "75dd66bf",
   "metadata": {},
   "source": [
    "## 3. Choisissez la boucle adéquate"
   ]
  },
  {
   "cell_type": "markdown",
   "id": "7df53864",
   "metadata": {},
   "source": [
    "# Partie 4 - Utilisez des librairies Python spécialisées"
   ]
  },
  {
   "cell_type": "markdown",
   "id": "3e2f0fd2",
   "metadata": {},
   "source": [
    "## 1. Prenez en main les modules et librairies Python"
   ]
  },
  {
   "cell_type": "markdown",
   "id": "396ba0a2",
   "metadata": {},
   "source": [
    "## 2. Manipulez des nombres aléatoires avec le module random"
   ]
  },
  {
   "cell_type": "code",
   "execution_count": null,
   "id": "ddcd083c",
   "metadata": {},
   "outputs": [],
   "source": []
  }
 ],
 "metadata": {
  "kernelspec": {
   "display_name": "Python 3 (ipykernel)",
   "language": "python",
   "name": "python3"
  },
  "language_info": {
   "codemirror_mode": {
    "name": "ipython",
    "version": 3
   },
   "file_extension": ".py",
   "mimetype": "text/x-python",
   "name": "python",
   "nbconvert_exporter": "python",
   "pygments_lexer": "ipython3",
   "version": "3.10.2"
  }
 },
 "nbformat": 4,
 "nbformat_minor": 5
}
