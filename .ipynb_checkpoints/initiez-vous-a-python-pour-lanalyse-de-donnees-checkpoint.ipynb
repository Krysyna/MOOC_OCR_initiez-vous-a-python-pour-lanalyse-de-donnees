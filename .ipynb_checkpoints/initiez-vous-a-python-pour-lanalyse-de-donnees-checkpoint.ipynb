{
 "cells": [
  {
   "cell_type": "markdown",
   "id": "6ab61edb",
   "metadata": {},
   "source": [
    "# Partie 1 - Mettez en place votre environnement de travail Python"
   ]
  },
  {
   "cell_type": "markdown",
   "id": "1d3537e5",
   "metadata": {},
   "source": [
    "## 1. Installez Python et Anaconda\n",
    "* Découvrez Python\n",
    "* Installez Python via Anaconda\n",
    "* Utilisez Python dans le Cloud via Google Colaboratory"
   ]
  },
  {
   "cell_type": "markdown",
   "id": "e0da14f9",
   "metadata": {},
   "source": [
    "## 2. Faites vos premiers pas avec Jupyter Notebook\n",
    "\n",
    "* Découvrez le notebook Jupyter\n",
    "* Faites vos premiers pas avec Jupyter\n",
    "* Documentez votre notebook "
   ]
  },
  {
   "cell_type": "markdown",
   "id": "88a39499",
   "metadata": {},
   "source": [
    "   \n",
    "# Partie 2 - Manipulez les fonctions et objets fondamentaux"
   ]
  },
  {
   "cell_type": "markdown",
   "id": "c8ad2b56",
   "metadata": {},
   "source": [
    "## 1. Déclarez une variable"
   ]
  },
  {
   "cell_type": "markdown",
   "id": "52fea734",
   "metadata": {},
   "source": [
    "### Qu'est-ce qu'une variable ?"
   ]
  },
  {
   "cell_type": "markdown",
   "id": "f6dcb7c5",
   "metadata": {},
   "source": [
    "deux elements :\n",
    "* un nom = etiquette =>il doit etre clair, cohérant et explicite, privilegier le snake_case\n",
    "* une valeur = le contenu de la boite, parfois il y a une valeur par defaut"
   ]
  },
  {
   "cell_type": "markdown",
   "id": "6fcd8c66",
   "metadata": {},
   "source": [
    "### Comment créer une variable ?\n",
    "La variable doit etre initialisée:\n",
    "Il faut ecrire une expression qui associe une valeur à une nom \n",
    "* nom_variable = valeur_variable\n",
    "\n",
    "L’attribution d’une valeur à une variable s’appelle une affectation.\n"
   ]
  },
  {
   "cell_type": "markdown",
   "id": "440060c5",
   "metadata": {},
   "source": [
    "### Qu'est-ce qu'une opération entre variables ?\n",
    "    la valeur d’une variable peut changer, on utilise des opérations\n",
    "###### Chaque opération va faire appel à des opérateurs arithmétiques\n",
    "   [ /!\\ ordre des opérations ]\n",
    "\n",
    "   * addition +;\n",
    "   * soustraction -;\n",
    "   * multiplication *;\n",
    "   * division /\n",
    "   \n",
    "###### Un peu plus complexe :\n",
    "\n",
    "   * %  modulo : retourne le reste de la division euclidienne ;\n",
    "   * **  puissance : permet d’élever un nombre à une certaine puissance ;\n",
    "   * //  division entière : calcule la division entière (chiffre arrondi à l’inférieur).\n",
    "   \n",
    "   \n",
    "   \n",
    "###### opérateurs simplifiés\n",
    "\n",
    "+= (additoin),-= (soustraction), *= (multiplication), /= (division), %=  (reste de la division entière),...\n",
    "\n"
   ]
  },
  {
   "cell_type": "markdown",
   "id": "0af4c5a9",
   "metadata": {},
   "source": [
    "### Au-delà de l’arithmétique\n",
    "* il existe des variables de type *numérique* : int, float \n",
    "* chaine de caracteres *string* avec les quotes \"\" ou ''\n",
    "\n"
   ]
  },
  {
   "cell_type": "markdown",
   "id": "d6f5f087",
   "metadata": {},
   "source": [
    "## 2. Manipulez les types de variables"
   ]
  },
  {
   "cell_type": "markdown",
   "id": "76df7a57",
   "metadata": {},
   "source": [
    "### Pourquoi avons-nous besoin des types de variables ?\n",
    "depend la facon dont la variable peut etre manipulée"
   ]
  },
  {
   "cell_type": "markdown",
   "id": "46309e52",
   "metadata": {},
   "source": [
    "### Les variables numériques\n",
    "* operations mathematiques\n",
    "* deux types : \n",
    "    * entiers (int)\n",
    "    * decimaux (float à virgule)\n",
    "* les différents types numériques peuvent être mixés ensemble\n",
    "* typecasting permet de forcer le type ou cast d'une variable :\n",
    "    * int()\n",
    "    * float()   "
   ]
  },
  {
   "cell_type": "markdown",
   "id": "7272e70c",
   "metadata": {},
   "source": [
    "### Les chaînes de caractères\n",
    "* type *string*\n",
    "* permet de stocker du texte\n",
    "* *concatenation* pour assembler plusieurs strings\n",
    "* on ne peut pas concater des typê numeriques et string \n",
    "* type casting : \n",
    "    * str()\n"
   ]
  },
  {
   "cell_type": "markdown",
   "id": "f3afaa1b",
   "metadata": {},
   "source": [
    "## 3. Écrivez vos propres fonctions"
   ]
  },
  {
   "cell_type": "markdown",
   "id": "dc11eafd",
   "metadata": {},
   "source": [
    "### les fonctions\n",
    "* indispensable pour structurer le code, et le rendre plus lisible\n",
    "* bloc de code reutilisable appelé grâce à un nom.\n",
    "* composées d'un *nom* et de *parametre(s)*\n",
    "* exemple de fonctions préexistantes (*built-in*) : \n",
    "    * print()\n",
    "    * cast : str(), int(), float()\n",
    "    * len()  : renvoie la longueur d’un élément\n",
    "    * type()  : permet d’afficher le type d’une variable \n",
    "    * pow(a, b)  :  a puissance b = a**b\n",
    "    * abs()  : retourne la valeur absolue d’un nombre\n",
    "\n",
    "### vos propres fonctions\n",
    "Une fonction est définie via le mot clé  def  suivi du nom de la fonction\n",
    "L’indentation est un principe fondamental en Python,\n",
    "\n",
    "#### Définissez des paramètres\n",
    "pour recuperer des infos exterieru a la fonction\n",
    "definis en meme temsp que la fonction\n",
    "\n",
    "\n",
    "#### Définissez une valeur retournée\n",
    "Pour définir une valeur retournée, il faut explicitement utiliser le mot clé return à la fin de votre fonction.\n",
    "\n",
    "###  la fonction help()\n",
    "* help(nomFonction) affichera la documentation de cette fonction  :\n",
    "    * son but ;\n",
    "    * des recommandations d’utilisation ;\n",
    "    * la liste et la description des paramètres ;\n",
    "    * parfois même des exemples."
   ]
  },
  {
   "cell_type": "markdown",
   "id": "0b865cb1",
   "metadata": {},
   "source": [
    "## 4. Programmez en orienté objet\n",
    "***en Python, tout est objet***\n",
    "les objets peuvent etre classer a l'aide de leurs points communs\n",
    "ex : livre ont un titre, un auteur, une date ... => partagent différents attributs qui vous permettent de les classer dans une catégorie bien identifiée : celle des livres."
   ]
  },
  {
   "cell_type": "markdown",
   "id": "08742532",
   "metadata": {},
   "source": [
    "### Les classes : des modèles d’objets\n",
    "* = groupe categorie d'objets qui ont des attributs en **communs** = sorte de *schéma de construction*\n",
    "* a partir de cette classe on peut creer differetns modeles d'un objet\n",
    "* exemple classe voiture\n",
    "    * attributs : 4 roues, une couleur, une puissance...\n",
    "    * methodes : fonctionalitées propres : rouler, freiner ...\n",
    "    * on peut creer/instancier des objets de classe voiture => ces objets = instances de classe\n",
    "\n",
    "* **En résumé** :\n",
    "    * une **classe** correspond au plan d’un objet, définissant ses **attributs** et ses **méthodes**\n",
    "    * À partir d’une même classe, on peut donc créer plusieurs **objets** d’un même type, mais aux attributs différents : on appelle cela des **instances** de classe. **Un objet est défini par ses attributs**\n",
    "\n",
    "### Focus sur les méthodes\n",
    "* instanciation d'un objet de classe int, avec pour seul attribut : sa valeur\n",
    "    * variable = 10\n",
    "* methode de classe = fonction dispo  pour toutes les instances de cette classe\n",
    "    * classe avion => methode voler()\n",
    "    * classe voiture => methode rouler()\n",
    "* utilisation d'une methode : \n",
    "    * nom_variable.méthode()\n",
    "* les méthodes de classes peuvent prendre des paramètres\n",
    "* Une méthode, tout comme une fonction, ne modifie généralement pas l’objet initial.Elles ne font que retourner le résultat de la méthode appliquée à l’objet.\n",
    "\n",
    "### Les méthodes de chaînes de caractères\n",
    "Pour modifier des instances de la classe string\n",
    "  - lower() : transformer l’ensemble du texte en minuscules\n",
    "  - upper()  : retourne l’ensemble du texte en majuscules ;\n",
    "  - capitalize()  : retourne l’ensemble du texte en minuscules avec la première lettre en majuscule ;\n",
    "  - replace(old, new)\n",
    "  - find(chaîne)  : retourne soit l’indice de la première occurrence de la chaîne passée en argument, soit -1 si elle ne la trouve pas.\n"
   ]
  },
  {
   "cell_type": "markdown",
   "id": "892ac6fd",
   "metadata": {},
   "source": [
    "# Partie 3 - Structurez votre code au sein d’un projet"
   ]
  },
  {
   "cell_type": "markdown",
   "id": "c7a45ff8",
   "metadata": {},
   "source": [
    "## 1. Créez des tableaux pour stocker vos variables\n",
    "une variable qui contient plusieurs informations => 2 classes les plus utilisées :\n",
    "* liste : element ordonné de 0 à ...\n",
    "* dictionnaire : clé: valeur <=> mot: definition"
   ]
  },
  {
   "cell_type": "markdown",
   "id": "19f0761e",
   "metadata": {},
   "source": [
    "### les listes \n",
    "\n",
    "#### declaration de liste\n",
    "les listes :\n",
    "   * declaration:\n",
    "        ma_liste=[element1,element2 ...]\n",
    "   * objet qui contient d'autres objets (de n'importe quel type et meme des listes => liste de liste!)\n",
    "   * ordonnées : à chq element est associé un **indice** qui demarre a 0\n",
    "\n",
    "* accceder a une valeur ou changer une valeur a l'aide de son indice \n",
    "    * maliste[i] avec i l'indice de l'element\n",
    "    * indices négatifs: -1 correspond au dernier\n",
    "    * intervalle d'indice ou slice : maliste[i:j] qui correspond aux indices de l'interevelle [i:j[ donc j exclut\n",
    "    \n",
    "#### methode de listes\n",
    "\n",
    "   * **insert**  : pour insérer un nouvel élément à une position spécifique. Par exemple,  liste.insert(1, 12)  insérera l’entier 12 à l’indice 1, déplaçant l’ancien élément 1 à l’indice 2 et ainsi de suite ;\n",
    "   * **append** : ajoute une valeur a la fin de la liste \n",
    "\n",
    "   * **extend**  : similaire à append, mais avec une autre liste. D’une certaine façon, cela permet de concaténer plusieurs listes ensemble ;\n",
    "   * **remove**  : cherche l’élément donné dans la liste et supprime la première occurrence rencontrée. Par exemple, si vous souhaitez supprimer 5 de votre liste, vous pouvez utiliser :liste.remove(5);\n",
    "   * **index**  : cette méthode permet de trouver l’indice de la première occurrence d’un élément à chercher dans notre liste ;\n",
    "   * ***mot clé*** **del**  : pour supprimer un élément selon son indice.\n",
    "liste = []\n",
    "\n",
    "- ajouter => liste.append(7) # -> [7]\n",
    "- inserer => liste.insert(1,12) # [7, 12, 5]\n",
    "- remplacer => liste[0] = 4 # -> [4, 12, 5] *ou* .insert() et .remove()\n",
    "- cherche et supprime selon la valeur (premiere occurence) => liste.remove(12) # [4, 5]\n",
    "- indice de l'element cherché (premiere occurence) => liste.index(5) # affiche 1\n",
    "- ajout d'un liste => liste.extend([1, 2, 3]) # [4, 5, 1, 2, 3]\n",
    "- supprimer  élément selon  indice => del liste[3] # [4, 5, 1, 3]\n",
    "- taille de la liste => len(liste), indispensable pour parcourir une liste a l'aide d'une boucle for"
   ]
  },
  {
   "cell_type": "raw",
   "id": "1b95a892",
   "metadata": {},
   "source": [
    "liste = []\n",
    "liste.append(7) # -> [7]\n",
    "print (liste)\n",
    "liste.append(5) # -> [7, 5]\n",
    "print (liste)\n",
    "liste.insert(1,12) # [7, 12, 5]\n",
    "print (liste)\n",
    "liste[0] = 4 # -> [4, 12, 5]\n",
    "print (liste)\n",
    "liste.remove(12) # [4, 5]\n",
    "print (liste)\n",
    "liste.index(5) # affiche 1\n",
    "print (liste)\n",
    "liste.extend([1, 2, 3]) # [4, 5, 1, 2, 3]\n",
    "print (liste)\n",
    "del liste[3] # [4, 5, 1, 3]\n",
    "print (liste)\n",
    "\n",
    "OUTPUT \n",
    "[7]\n",
    "[7, 5]\n",
    "[7, 12, 5]\n",
    "[4, 12, 5]\n",
    "[4, 5]\n",
    "[4, 5]\n",
    "[4, 5, 1, 2, 3]\n",
    "[4, 5, 1, 3]"
   ]
  },
  {
   "cell_type": "markdown",
   "id": "19e3ac19",
   "metadata": {},
   "source": [
    "### les dictionnaires\n",
    "* liste d'elements organisés avec un systeme de clé => pas besoin d'etre ordonné, contraiement aux listes\n",
    "* association clé-valeur\n",
    "\n",
    "#### Déclarez un dictionnaire\n",
    "avec des **accolades**\n",
    "dico={'clé1' : valeur1, 'cle2' : valeur2}\n",
    "#### Manipulez les éléments d’un dictionnaire\n",
    "\n",
    "* accéder à la valeur d’un élément, en utlisant sa clé \n",
    "    * dico['cle1']\n",
    "* ajouter un nouvel élément (valeur-clé)\n",
    "    * dico['cle_new']= valeur_new\n",
    "* supprimer un élément via sa clé avec la metode pop \n",
    "    * dico.pop('cle_de_l_element_a supprimer')"
   ]
  },
  {
   "cell_type": "markdown",
   "id": "d5d2388d",
   "metadata": {},
   "source": [
    "### les tuples ()\n",
    "* ressemble aux liste : \n",
    "    * objets ordonnés\n",
    "    * accede aux elements a l'aide de leur indice\n",
    "    * on peut stocker toutes types d'objets\n",
    "* **immuable** => pour retourner plusieurs valeurs depuis une fonction, declarer plusieurs variables, proteger certaines veriables\n",
    "#### declamon_tuple = (1, 2, 3, 'a', 'b')er un tuple\n",
    "* avec des parentheses \n",
    "    * mon_tuple = (1, 2, 3, 'a', 'b')\n",
    "#### maniipulez les tuples\n",
    "* selectionnez un element a l'aide de son incide\n",
    "    * mon_tuple[i] -> valeur de l'indice i, les indeices commencent à zero\n",
    " * declarer plusieurs variables en meme temps\n",
    "     * var1,var2 = (val1,val2)\n",
    "     "
   ]
  },
  {
   "cell_type": "markdown",
   "id": "1eb1f394",
   "metadata": {},
   "source": [
    "### en resumé \n",
    "\n",
    "Dans ce chapitre, vous avez appris l’ensemble des bases de l’utilisation de différents \"types de stockage\" :\n",
    "* les listes : un tableau ordonné, modifiable, où chaque élément est associé à un indice ;\n",
    "* les dictionnaires : un tableau non ordonné, modifiable, où chaque élément est associé à une clé ;\n",
    "* les tuples : un tableau ordonné, non mutable, où chaque élément est associé à un indice ;\n",
    "* les actions les plus souvent réalisées avec les listes et dictionnaires sont :\n",
    "       * accéder à un élément,\n",
    "       * ajouter un élément,\n",
    "       * supprimer un élément,\n",
    "       * modifier un élément,\n",
    "       * compter le nombre d’éléments stockés ;\n",
    "       \n",
    "on peut réaliser ces différentes actions via des méthodes.\n",
    "\n",
    "Le type à utiliser dépend de la tâche à accomplir. Au fur et à mesure que vous progresserez dans votre carrière, vous serez en mesure de mieux identifier la structure la plus adaptée à votre situation !"
   ]
  },
  {
   "cell_type": "markdown",
   "id": "e69c5a00",
   "metadata": {},
   "source": [
    "## 2. Contrôlez votre code grâce aux structures conditionnelles\n",
    "\n",
    "* programme = suite de lignes => il faut les structurer\n",
    "\n",
    "* condition definie la action a realiser if/else\n",
    "\n",
    "* pour valider la condition boolene => True/ False\n",
    "\n",
    "### Affichez des informations si elles sont disponibles"
   ]
  },
  {
   "cell_type": "code",
   "execution_count": null,
   "id": "8d25aa7d",
   "metadata": {
    "scrolled": true
   },
   "outputs": [],
   "source": [
    "nom = input('Quel est ton nom, cher(e) inconnu(e) ?')\n",
    "# attentio au deux points\n",
    "if len(nom) > 0:\n",
    "#     suivi d'une indentation du code\n",
    "    print(\"Hello\", nom, \"!\")\n",
    "else:\n",
    "    print(\"Hello World !\")"
   ]
  },
  {
   "cell_type": "markdown",
   "id": "87bd5daa",
   "metadata": {},
   "source": [
    "### Utilisez les booléens : le type sans demi-mesure\n",
    "pourt valider une condition, utilise un objet de type booleen => contient deux valeurs possibles true/false\n",
    "pour declarer un booleen :\n",
    "var_bool = True ou var_bool = False\n",
    "\n",
    "pour la structure conditionelle if il faut aboutir a un booleen. \n",
    "3 methodes\n",
    "* valeur  True  ou  False. *if True :*\n",
    "* varible de type booléen.*if var_bool :*\n",
    "* expression qui aboutit à une valeur booléenne.*if var < 3 :*\n",
    "\n",
    "* Les operateurs de comparaison :\n",
    "    * ==  *égal à \n",
    "    * !=  *différent de \n",
    "    * <  *inférieur à \n",
    "    * <=  *inférieur ou égal \n",
    "    * >  *supérieur à \n",
    "    * >=  *supérieur ou égal\n",
    "* les operateurs logique\n",
    "    * and : Le résultat est vrai seulement lorsque **toutes** les expressions/valeurs sont vraies. \n",
    "    * or : Le résultat final est vrai lorsqu’**au moins une** des expressions/valeur est vraie.\n",
    "    * not :  **inverse** simplement le résultat de l’expression donnée.ex : not(expression)  est vrai lorsque  expression  est faux\n",
    "        = >  priorités d’opérations : **not** est réalisé en premier, ensuite **and**, puis **or**\n",
    "    * in : envoie  True  lorsqu’une valeur est trouvée dans une séquence\n",
    "    "
   ]
  },
  {
   "cell_type": "raw",
   "id": "c5395cf4",
   "metadata": {},
   "source": [
    "if condition :\n",
    "# faire qqch si la condition est remplie "
   ]
  },
  {
   "cell_type": "markdown",
   "id": "9c0cd6fb",
   "metadata": {},
   "source": [
    "### Gérez un enchaînement de conditions"
   ]
  },
  {
   "cell_type": "raw",
   "id": "dcc67154",
   "metadata": {},
   "source": [
    "if condition1: \n",
    "    # instructions\n",
    "elif condition2:\n",
    "    # instructions\n",
    "else:\n",
    "    # instructions"
   ]
  },
  {
   "cell_type": "markdown",
   "id": "e3416e5f",
   "metadata": {},
   "source": [
    "## 3. Choisissez la boucle adéquate\n",
    "une boucle est une structure qui permet de répéter une ou plusieurs instructions"
   ]
  },
  {
   "cell_type": "markdown",
   "id": "db4e068d",
   "metadata": {},
   "source": [
    "### “Bouclez” un nombre de fois *fixé* avec la boucle FOR \n",
    "on sait par avance le nombre de fois où une action doit être répétée\n",
    "en Python, une boucle *for* va forcément itérer via une collection (liste, dictionnaire, string, etc.)\n",
    "\n",
    "#### La boucle for sur une collection"
   ]
  },
  {
   "cell_type": "raw",
   "id": "32484bbe",
   "metadata": {},
   "source": [
    "# creation d'un element itératif\n",
    "liste=[1,2,3,4,5]\n",
    "# realiser l'instruction pour chaue element de la collection\n",
    "for item in liste :\n",
    "    print (item)\n",
    "# la boucle s'arrete quand il n'y aplus d'element a iterer"
   ]
  },
  {
   "attachments": {
    "image.png": {
     "image/png": "[encoded data removed]"
    }
   },
   "cell_type": "markdown",
   "id": "9ace105f",
   "metadata": {},
   "source": [
    "![image.png](attachment:image.png)\n",
    "\n",
    "#### La boucle for via une valeur itérative entière (la fonction range)\n",
    "* itérer au travers d’une liste qui contiendra les différentes valeurs de votre entier itératif\n",
    "* la fonction **range** *(debut, fin, pas)* \n",
    "    * fin= dernier nombre de la séquence **non inclus**\n",
    "    * debut, par defaut = 0\n",
    "    * pas, par defaut =1   "
   ]
  },
  {
   "cell_type": "markdown",
   "id": "794f860c",
   "metadata": {},
   "source": [
    "### “Bouclez” selon une condition avec la boucle WHILE \n",
    "* boucle **conditionnelle** : *tant que mon expression logique est vraie, exécute le bloc d’instruction*\n",
    "* Le nombre de répétitions n’est pas défini à l’avance\n",
    "* /!\\ boucle infinie "
   ]
  },
  {
   "cell_type": "raw",
   "id": "226b555a",
   "metadata": {},
   "source": [
    "while expressionLogique:\n",
    "    # bloc à exécuter"
   ]
  },
  {
   "cell_type": "markdown",
   "id": "75dd66bf",
   "metadata": {},
   "source": [
    "### Passez certaines instructions au sein de votre boucle\n",
    "mot clé ***continue*** : pour *passer* une itération dans une boucle\n",
    "mot clé ***break*** : *interrompre* la boucle, lorsqu'on cherche un élément particulier dans une liste   \n",
    "\n",
    "### Résumé\n",
    "   * 2 boucles :\n",
    "       * pour répéter une action un certain nombre de fois fixé, ou selon une séquence : la boucle for ;\n",
    "       * pour répéter une action tant qu’une condition est vraie : la boucle while.\n",
    "   * Il y a une erreur courante à ne pas commettre avec la boucle while : la **boucle infinie** !\n",
    "   * Vous pouvez choisir de passer certains tours de boucle via le mot clé **continue**.\n",
    "   * Les cycles de la boucle peuvent être interrompus via la commande **break**."
   ]
  },
  {
   "cell_type": "markdown",
   "id": "7df53864",
   "metadata": {},
   "source": [
    "# Partie 4 - Utilisez des librairies Python spécialisées"
   ]
  },
  {
   "cell_type": "markdown",
   "id": "10ea0100",
   "metadata": {},
   "source": [
    "## 1. Prenez en main les modules et librairies Python"
   ]
  },
  {
   "cell_type": "markdown",
   "id": "c35ffb97",
   "metadata": {},
   "source": [
    "### Un module en Python\n",
    "* Un module est un ficher Python contenant un ensemble de fonctions, de classes et de variables\n",
    "* importer un module avec le  mot clé  *import* : import nomModule\n",
    "* les éléments inclus dans le module nomModule peuvent être utilisés via la notation  nomModule.fonction()  ou encore  nomModule.variable\n",
    "* pour ne pas reecrire achq fois le nom du module nomModule. 2 possibilités:\n",
    "    * alias pour n'ecrire que l'alias\n",
    "         * import nomModule as nm  \n",
    "    * importer les fonctions specifiques et les utiliser comme si elles etaient natives (pas besoin du . )\n",
    "        * from nomModule import fonction"
   ]
  },
  {
   "cell_type": "markdown",
   "id": "1d65e6bf",
   "metadata": {},
   "source": [
    "### Quand un module ne suffit pas : les packages\n",
    "* Un package (ou librairie) est une collection, un ensemble de modules Python.\n",
    "* Un package est un dossier contenant des fichiers Python + et un fichier __init__.py\n",
    "* utiliser l'operateur . pour acceder au module du package : nomPackage.nomModule"
   ]
  },
  {
   "cell_type": "markdown",
   "id": "61b94d27",
   "metadata": {},
   "source": [
    "### Les packages dans l’analyse de données\n",
    "de nombreux packages ont été créés spécifiquement pour répondre aux problématiques de l'analyse de données \n",
    "* manipuler les données\n",
    "* graphiques\n",
    "* statisitiques\n",
    "* machine learning"
   ]
  },
  {
   "cell_type": "markdown",
   "id": "3e2f0fd2",
   "metadata": {},
   "source": [
    "### En résumé\n",
    "* un module est un fichier contenant du code Python (extension .py) qui peut définir des fonctions, des classes et/ou des variables ;\n",
    "* vous pouvez importer n’importe quel module Python via le mot clé  import;\n",
    "* pour utiliser une fonction d’un module, ou une classe ou une variable, il faut utiliser l’opérateur  .;\n",
    "* un package est un ensemble de plusieurs modules Python ;\n",
    "* il existe de nombreux packages spécifiquement créés pour l’analyse de données."
   ]
  },
  {
   "cell_type": "markdown",
   "id": "396ba0a2",
   "metadata": {},
   "source": [
    "## 2. Manipulez des nombres aléatoires avec le module random"
   ]
  },
  {
   "cell_type": "markdown",
   "id": "aaa2132f",
   "metadata": {},
   "source": [
    "### Générez des nombres aléatoires\n",
    "\n",
    "* importer le module : *import random*\n",
    "* les fonctions :\n",
    "   * *random.random()*  génère un float entre 0 et 1 non inclus \n",
    "   * *random.uniform(a, b)* génére un float aléatoire compris entre a et b;\n",
    "   * *random.randint(a, b)*  * génére un ENTIER aléatoire compris entre a et b;\n",
    "   * *random.gauss(moyenne, écart-type) : loi Normale => lois de probabilite qui modelise les phenomenes naturels\n",
    "                   \n",
    "### Choisissez aléatoirement dans une liste : sous-échantillonnage\n",
    "* random.choice(liste) : selectionne *un* element de la liste **avec remise**\n",
    "* random.choices (liste,k=...) : selectionne *k* elements de la liste **avec remise**\n",
    "* random.sample (liste,k) : selectionne *k* elements de la liste **sans remise**\n",
    "   \n",
    "### Pour aller plus loin\n",
    "https://docs.python.org/3/library/random.html\n",
    "\n",
    "### En résumé"
   ]
  },
  {
   "cell_type": "code",
   "execution_count": 10,
   "id": "bce2501f",
   "metadata": {},
   "outputs": [],
   "source": [
    "import random"
   ]
  },
  {
   "cell_type": "markdown",
   "id": "71ffaa55",
   "metadata": {},
   "source": [
    "En premier lieu un jeu que l’on notera A qui est un simple jeu de pile ou face avec une pièce biaisée (pile avec une probabilité de p=0.49). Le joueur mise un euro et lance la pièce : s’il obtient pile il gagne un euro en plus de récupérer sa mise, sinon il perd sa mise.\n",
    "\n",
    "Ensuite, un jeu que l’on notera B, qui est un jeu avec deux pièces biaisées. La première pièce donne pile avec une probabilité p1 = 0.09 et la seconde pièce donne pile avec une probabilité p2 = 0.74. Le joueur de ne peut miser qu’un euro à la fois ! En revanche, on regarde à chaque lancé son capital (la somme d’argent total) dont il dispose pour déterminer quelle pièce lancer : si le capital est un multiple de 3, on lance la pièce numéro une, sinon on lance la seconde pièce. Comme dans le jeu A, le joueur remporte sa mise plus un euro supplémentaire si la pièce choisie tombe sur pile, sinon il perd sa mise.\n",
    "\n",
    "On considère qu’un jeu est gagnant lorsqu’un joueur est censé finir avec un capital plus élevé qu’initialement après avoir effectué un grand nombre (par exemple : plusieurs centaines) de parties. Mettez en place ces deux jeux de hasard avec Python, via l’utilisation de librairies vues un peu plus tôt, en considérant que le joueur part avec un capital de 1000€.  "
   ]
  },
  {
   "cell_type": "code",
   "execution_count": 3,
   "id": "a54157a4",
   "metadata": {
    "scrolled": false
   },
   "outputs": [],
   "source": [
    "p=0.49 \n"
   ]
  },
  {
   "cell_type": "code",
   "execution_count": 7,
   "id": "5d2a7f52",
   "metadata": {},
   "outputs": [],
   "source": [
    "import random\n",
    "    \n",
    "def pieceJeuA():\n",
    "    if random.uniform(0,1) <= 0.49:\n",
    "        return 'pile'\n",
    "    else:\n",
    "        return 'face'\n",
    "    \n",
    "def pieceJeuB1():\n",
    "    if random.uniform(0,1) <= 0.09:\n",
    "        return 'pile'\n",
    "    else:\n",
    "        return 'face'\n",
    "    \n",
    "def pieceJeuB2():\n",
    "    if random.random() <= 0.74:\n",
    "        return 'pile'\n",
    "    else:\n",
    "        return 'face'\n",
    "def gain(capital,lancer):\n",
    "    if lancer=='pile' :\n",
    "        capital=capital+1\n",
    "    else :\n",
    "        capital=capital -1\n",
    "    return capital\n",
    "\n",
    "def jeu_gagnant(capital_init,capital) :\n",
    "    if capital>capital_init :\n",
    "        print (capital, 'gagnant')\n",
    "    else :\n",
    "        print (capital,'perdant')        \n"
   ]
  },
  {
   "cell_type": "code",
   "execution_count": 8,
   "id": "10aaf40f",
   "metadata": {
    "scrolled": false
   },
   "outputs": [
    {
     "name": "stdout",
     "output_type": "stream",
     "text": [
      "796 perdant\n"
     ]
    }
   ],
   "source": [
    "capital_init= 1000\n",
    "capital=capital_init\n",
    "\n",
    "for i in range (nb_lancer) :\n",
    "    lancer=pieceJeuA()\n",
    "    capital=gain(capital,lancer)\n",
    "#     if lancer=='pile' :\n",
    "#         capital=capital+1\n",
    "#     else :\n",
    "#         capital = capital -1\n",
    "jeu_gagnant(capital_init,capital)    "
   ]
  },
  {
   "cell_type": "code",
   "execution_count": 9,
   "id": "8941842c",
   "metadata": {},
   "outputs": [
    {
     "name": "stdout",
     "output_type": "stream",
     "text": [
      "jeu perdant 752\n"
     ]
    }
   ],
   "source": [
    "\n",
    "capital=capital_init\n",
    "\n",
    "for i in range(nb_lancer):\n",
    "    if capital %3 == 0 :\n",
    "        lancer= pieceJeuB1()        \n",
    "    else :\n",
    "        lancer=pieceJeuB2()\n",
    "    capital=gain(capital,lancer)\n",
    "    \n",
    "if capital>capital_init :\n",
    "    print(\"jeu gagnant\",capital)\n",
    "else :\n",
    "    print (\"jeu perdant\",capital)"
   ]
  },
  {
   "cell_type": "raw",
   "id": "3d2ae6ba",
   "metadata": {},
   "source": [
    "On va à présent mixer les deux jeux présentés dans la question précédente ! En effet, à chaque tour, on lance une pièce (cette fois-ci...) équilibrée ! Si l'on a pile, on joue au jeu A, sinon on joue au jeu B.\n",
    "On suppose que le joueur a 1000 euros comme capital de départ.\n",
    "Après avoir joué 1.000.000 de parties, quel est le statut du jeu, du point de vue du joueur ?"
   ]
  },
  {
   "cell_type": "code",
   "execution_count": 12,
   "id": "d89266b8",
   "metadata": {
    "scrolled": true
   },
   "outputs": [
    {
     "data": {
      "text/plain": [
       "7160"
      ]
     },
     "execution_count": 12,
     "metadata": {},
     "output_type": "execute_result"
    }
   ],
   "source": [
    "import random\n",
    "\n",
    "capital_init= 1000\n",
    "capital=capital_init\n",
    "nb_lancer=1000000\n",
    "\n",
    "def piece() :\n",
    "    if random.random() <= 0.5:\n",
    "        return 'pile'\n",
    "    else:\n",
    "        return 'face'\n",
    "for i in range(nb_lancer):  \n",
    "    lancer1= piece()\n",
    "    if lancer1==\"pile\" :\n",
    "        lancer2=pieceJeuA()\n",
    "    if lancer1=='face':\n",
    "        if capital%3 == 0:\n",
    "            lancer2=pieceJeuB1()\n",
    "        else :\n",
    "            lancer2=pieceJeuB2()\n",
    "    if lancer2=='pile' :\n",
    "        capital=capital+1\n",
    "    else :\n",
    "        capital=capital -1\n",
    "capital"
   ]
  },
  {
   "cell_type": "code",
   "execution_count": 16,
   "id": "c12eeb17",
   "metadata": {},
   "outputs": [
    {
     "name": "stdout",
     "output_type": "stream",
     "text": [
      "Orange\n"
     ]
    }
   ],
   "source": [
    "import random\n",
    "\n",
    "\n",
    "panier = [\"Pomme\", \"Poire\", \"Banane\", \"Ananas\", \"Orange\"]\n",
    "\n",
    "resultat =random.choice(panier)\n",
    "\n",
    "print(resultat)"
   ]
  },
  {
   "cell_type": "code",
   "execution_count": 62,
   "id": "43151979",
   "metadata": {},
   "outputs": [
    {
     "name": "stdout",
     "output_type": "stream",
     "text": [
      "0.157 0.172\n",
      "0.163 0.164\n",
      "0.171 0.175\n",
      "0.162 0.151\n",
      "0.161 0.167\n"
     ]
    }
   ],
   "source": [
    "import random\n",
    "def de_equilibre() :\n",
    "    lancer=random.randint(1,6)\n",
    "    return lancer\n",
    "# de_equilibre()\n",
    "nb_six=0\n",
    "nb_quatre=0\n",
    "for i in range(5):\n",
    "    nb_lancer=10000\n",
    "    liste_lancer=[]\n",
    "    for lancer in range(nb_lancer) :\n",
    "        result_lancer=de_equilibre()\n",
    "        liste_lancer.append(result_lancer)\n",
    "    sample=random.sample(liste_lancer,k=1000)\n",
    "    nb_six=0\n",
    "    nb_quatre=0\n",
    "    for i in range (len(sample)) :\n",
    "        if sample[i]==6 :\n",
    "            nb_six=nb_six+1\n",
    "        if sample[i]==4 :\n",
    "            nb_quatre=nb_quatre+1  \n",
    "    n=nb_six/1000\n",
    "    m=nb_quatre/1000\n",
    "    print (n,m)"
   ]
  },
  {
   "cell_type": "code",
   "execution_count": null,
   "id": "2bc107cf",
   "metadata": {},
   "outputs": [],
   "source": []
  }
 ],
 "metadata": {
  "kernelspec": {
   "display_name": "Python 3 (ipykernel)",
   "language": "python",
   "name": "python3"
  },
  "language_info": {
   "codemirror_mode": {
    "name": "ipython",
    "version": 3
   },
   "file_extension": ".py",
   "mimetype": "text/x-python",
   "name": "python",
   "nbconvert_exporter": "python",
   "pygments_lexer": "ipython3",
   "version": "3.10.2"
  }
 },
 "nbformat": 4,
 "nbformat_minor": 5
}
